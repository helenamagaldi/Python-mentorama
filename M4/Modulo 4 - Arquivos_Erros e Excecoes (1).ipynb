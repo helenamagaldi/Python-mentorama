{
 "cells": [
  {
   "cell_type": "markdown",
   "metadata": {},
   "source": [
    "# Módulo 4 - Arquivos, Erros e Excessões\n",
    "\n",
    "Ao final desse módulo você será capaz de aprender:\n",
    "\n",
    "* Arquivos (abrir, fechar, ler, escrever e outros métodos)\n",
    "* Erros\n",
    "* Excessões"
   ]
  },
  {
   "cell_type": "markdown",
   "metadata": {},
   "source": [
    "## 1. Arquivos\n",
    "\n",
    "* Nesta etapa, iremos aprender a criar, ler e escrever um arquivo simples em txt.\n",
    "* Para facilitar o aprendizado, tome nota da tabela contendo propriedades de leitura, escrita de arquivos.\n",
    "\n",
    "|     Caracter    |     Descrição                                                |\n",
    "|-----------------|--------------------------------------------------------------|\n",
    "|     ‘r’         |     Leitura                                                  |\n",
    "|     ‘w’         |     Escrita   - Substitui o conteúdo do arquivo existente    |\n",
    "|     ‘x’         |     Escrita   - Retorna um erro caso o arquivo já exista     |\n",
    "|     ‘a’         |     Escrita   - Insere os novos dados no final do arquivo    |\n",
    "|     ‘b’         |     Modo   binário                                           |\n",
    "|     ‘t’         |     Modo   de texto (padrão)                                 |\n",
    "|     ‘+’         |     Atualizar   - Tanto leitura quanto escrita               |\n",
    "\n",
    "Vamos começar?\n",
    "\n",
    "### 1.1 Criar, abrir e fechar\n",
    "\n"
   ]
  },
  {
   "cell_type": "code",
   "execution_count": null,
   "metadata": {},
   "outputs": [],
   "source": [
    "# Cria e um arquivo\n",
    "arquivo = open('teste.txt', 'a+')"
   ]
  },
  {
   "cell_type": "code",
   "execution_count": null,
   "metadata": {},
   "outputs": [],
   "source": [
    "# fecha um arquivo\n",
    "arquivo.close()"
   ]
  },
  {
   "cell_type": "markdown",
   "metadata": {},
   "source": [
    "### 1.2 Ler e escrever\n",
    "\n",
    "| Método       | Uso                     | Descrição                                                                                                                                                                                                                                                                                                   |\n",
    "|--------------|-------------------------|----------------------------------------------------------------------------------------------------------------------------------------------------------------------------------------------------------------------------------------------------------------------------------------------------------|\n",
    "| write        | ref_arquivo.write(s)    | Adiciona o string s no final do arquivo. ref_arquivo deve ser uma referência a um arquivo que foi aberto para escrita (\"w\").                                                                                                                                                                             |\n",
    "| read(n)      | ref_arquivo.read()      | Lê e retorna um string de n caracteres ou o arquivo inteiro como um string se n não é fornecido.                                                                                                                                                                                                         |\n",
    "| readline(n)  | ref_arquivo.readline()  | Retorna a próxima linha do arquivo com todo o texto e incluindo o caractere de nova linha. Se n é fornecido como argumento então somente n caracteres são retornados se a linha tem mais do que n caracteres.                                                                                            |\n",
    "| readlines(n) | ref_arquivo.readlines() | Retorna uma lista de strings, cada um representado o conteúdo de uma linha do arquivo. Se n não é fornecido, todas as linhas do arquivo são retornadas. Se n é fornecido como argumento então n caracteres serão lidos mas n é arrendondado para cima de tal forma que uma linha inteira seja retornada. |\n",
    "                                  "
   ]
  },
  {
   "cell_type": "code",
   "execution_count": null,
   "metadata": {
    "scrolled": true
   },
   "outputs": [],
   "source": [
    "# Abre um arquivo para escrita substituindo um conteúdo do arquivo existente\n",
    "arquivo = open('teste.txt', 'w+')\n",
    "arquivo.write(\"Linha1\\n\")\n",
    "arquivo.write(\"Linha2\\n\")\n",
    "arquivo.write(\"Linha3\\n\")\n",
    "arquivo.close()"
   ]
  },
  {
   "cell_type": "code",
   "execution_count": null,
   "metadata": {},
   "outputs": [],
   "source": [
    "# Lê um arquivo existente\n",
    "arquivo = open('teste.txt', 'r')\n",
    "print(arquivo.read())\n",
    "arquivo.close()"
   ]
  },
  {
   "cell_type": "markdown",
   "metadata": {},
   "source": [
    "### 1.3. Outros métodos de leitura\n"
   ]
  },
  {
   "cell_type": "code",
   "execution_count": null,
   "metadata": {},
   "outputs": [],
   "source": [
    "arquivo = open('teste.txt', 'r')\n",
    "print(arquivo.readline(), end='')\n",
    "print(arquivo.readline(), end='')\n",
    "print(arquivo.readline(), end='')\n",
    "arquivo.close()"
   ]
  },
  {
   "cell_type": "code",
   "execution_count": null,
   "metadata": {},
   "outputs": [],
   "source": [
    "arquivo = open('teste.txt', 'r')\n",
    "print(arquivo.readlines())\n",
    "arquivo.close()"
   ]
  },
  {
   "cell_type": "markdown",
   "metadata": {},
   "source": [
    "## 2. Erros e exceções\n",
    "* Neta etapa iremos trabalhar com erros e exceções.\n",
    "* Faremos alguns testes para sabermos diferenciar quando acontece um e outro\n",
    "* Conheceremos alguns tipos de exceções para que possamos trata-las de maneira adequada em nosso código\n",
    "\n",
    "### 2.1 Erros de sintaxe"
   ]
  },
  {
   "cell_type": "code",
   "execution_count": null,
   "metadata": {},
   "outputs": [],
   "source": [
    "# Faltam aspas\n",
    "print(\"Olá mundo\")"
   ]
  },
  {
   "cell_type": "code",
   "execution_count": null,
   "metadata": {},
   "outputs": [],
   "source": [
    "# Faltam aspas\n",
    "\"1\"+\"Mentorama\""
   ]
  },
  {
   "cell_type": "code",
   "execution_count": null,
   "metadata": {
    "scrolled": true
   },
   "outputs": [],
   "source": [
    "# Não podemos começar um nome de variável com números\n",
    "var1='qualquercoisa'"
   ]
  },
  {
   "cell_type": "code",
   "execution_count": null,
   "metadata": {},
   "outputs": [],
   "source": [
    "# Faltam dois pontos\n",
    "def minhaFunção():\n",
    "    pass"
   ]
  },
  {
   "cell_type": "code",
   "execution_count": null,
   "metadata": {},
   "outputs": [],
   "source": [
    "# Não podemos usar palavras reservadas para nomes de variáveis\n",
    "var1=25\n",
    "print(var1)"
   ]
  },
  {
   "cell_type": "code",
   "execution_count": null,
   "metadata": {},
   "outputs": [],
   "source": [
    "# Cuidado com as quebras de linha\n",
    "print(\"uma mensagem muito muito muito muito grande\")"
   ]
  },
  {
   "cell_type": "code",
   "execution_count": null,
   "metadata": {},
   "outputs": [],
   "source": [
    "# Cuidado com o uso de = e == nas condicionais\n",
    "'Mentoraa' == 'Mentorama'"
   ]
  },
  {
   "cell_type": "markdown",
   "metadata": {},
   "source": [
    "### 2.2 Exceções\n",
    "\n",
    "Nesta etapa iremos nos familiarizar com as exceções em python, também conhecida na literatura como erros de tempo de execução\n"
   ]
  },
  {
   "cell_type": "code",
   "execution_count": null,
   "metadata": {},
   "outputs": [],
   "source": [
    "# ZeroDivisionError: divisão pelo zero\n",
    "1000/0"
   ]
  },
  {
   "cell_type": "code",
   "execution_count": null,
   "metadata": {},
   "outputs": [],
   "source": [
    "# NameError: o nome var2 não foi definido\n",
    "var2=\"Ola mundo\"\n",
    "print(var2)"
   ]
  },
  {
   "cell_type": "code",
   "execution_count": null,
   "metadata": {},
   "outputs": [],
   "source": [
    "# FileNotFoundError: não existe o arquivo 'teste1.txt' no diretório especificado\n",
    "# Cria e um arquivo\n",
    "arquivo = open('teste.txt', 'r')"
   ]
  },
  {
   "cell_type": "code",
   "execution_count": 4,
   "metadata": {},
   "outputs": [],
   "source": [
    "# Inicializando variáveis com tipos diferentes\n",
    "var1 = '10'\n",
    "var2 = 'Maria'\n",
    "var3 = 3.14\n",
    "var4 = True"
   ]
  },
  {
   "cell_type": "code",
   "execution_count": null,
   "metadata": {
    "scrolled": true
   },
   "outputs": [],
   "source": [
    "# TypeError: O operador + não é suportado com os tipos de dados int e str\n",
    "print(var1+var2)"
   ]
  },
  {
   "cell_type": "markdown",
   "metadata": {},
   "source": [
    "#### 2.2.1 Tratando exceções\n",
    "\n",
    "Para tratarmos as exceções, podemos utilizar as seguintes palavras reservadas:\n",
    "\n",
    "* try\n",
    "* except\n",
    "* else\n",
    "* finally\n",
    "\n",
    "Devemos considerar os tipos de exceções que podem ocorrer para que possamos fazer um tratamento adequado. \n",
    "\n",
    "Para isso, consulte a documentação do Python,  para ficar por dentro de todas as possibilidades"
   ]
  },
  {
   "cell_type": "code",
   "execution_count": null,
   "metadata": {},
   "outputs": [],
   "source": [
    "# Tratando exceções FileNotFoundError\n",
    "try: \n",
    "    f = open('teste1.txt','r')\n",
    "except FileNotFoundError:\n",
    "    print(\"Arquivo não  encontrado\")\n",
    "except:\n",
    "    print(\"Ocorreu um erro!\")"
   ]
  },
  {
   "cell_type": "code",
   "execution_count": 5,
   "metadata": {},
   "outputs": [
    {
     "name": "stdout",
     "output_type": "stream",
     "text": [
      "10\n",
      "Tente Novamente!\n",
      "Programa finalizado!\n"
     ]
    }
   ],
   "source": [
    "# Tratando exceções NameError\n",
    "try: \n",
    "    print(var1)\n",
    "except NameError:\n",
    "    print(\"Nome não definido!\")\n",
    "else: \n",
    "    print(\"Tente Novamente!\")\n",
    "finally:\n",
    "    print(\"Programa finalizado!\")"
   ]
  },
  {
   "cell_type": "code",
   "execution_count": 6,
   "metadata": {},
   "outputs": [
    {
     "name": "stdout",
     "output_type": "stream",
     "text": [
      "O fatorial de  10 é 3628800\n",
      "Libere todos os recursos em uso.\n",
      "Fatorial aceita somente valores inteiros positivos e -5  não é um inteiro positivo.\n",
      "Libere todos os recursos em uso.\n",
      "Fatorial aceita somente valores inteiros positivos e 1.2  não é um inteiro positivo.\n",
      "Libere todos os recursos em uso.\n",
      "Fatorial não é suportado pela tipo de entrada recebido.\n",
      "Libere todos os recursos em uso.\n"
     ]
    }
   ],
   "source": [
    "# Um exemplo um pouco mais complexo com iteração e biblioteca Math\n",
    "import math\n",
    " \n",
    "number_list = [10,-5,1.2,'apple']\n",
    " \n",
    "for number in number_list:\n",
    "    try:\n",
    "        number_factorial = math.factorial(number)\n",
    "    except TypeError:\n",
    "        print(\"Fatorial não é suportado pela tipo de entrada recebido.\")\n",
    "    except ValueError:\n",
    "        print(\"Fatorial aceita somente valores inteiros positivos e\", number,\" não é um inteiro positivo.\")\n",
    "    else:\n",
    "        print(\"O fatorial de \",number,\"é\", number_factorial)\n",
    "    finally:\n",
    "        print(\"Libere todos os recursos em uso.\")"
   ]
  },
  {
   "cell_type": "code",
   "execution_count": null,
   "metadata": {},
   "outputs": [],
   "source": []
  }
 ],
 "metadata": {
  "kernelspec": {
   "display_name": "Python 3",
   "language": "python",
   "name": "python3"
  },
  "language_info": {
   "codemirror_mode": {
    "name": "ipython",
    "version": 3
   },
   "file_extension": ".py",
   "mimetype": "text/x-python",
   "name": "python",
   "nbconvert_exporter": "python",
   "pygments_lexer": "ipython3",
   "version": "3.8.5"
  }
 },
 "nbformat": 4,
 "nbformat_minor": 4
}
