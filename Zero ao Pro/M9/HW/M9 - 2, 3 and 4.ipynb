{
 "cells": [
  {
   "cell_type": "markdown",
   "metadata": {},
   "source": [
    "#2"
   ]
  },
  {
   "cell_type": "code",
   "execution_count": 10,
   "metadata": {},
   "outputs": [
    {
     "name": "stdout",
     "output_type": "stream",
     "text": [
      "Hello World\n",
      "Hello World\n",
      "Hello World\n",
      "Hello World\n",
      "Hello World\n"
     ]
    }
   ],
   "source": [
    "import time \n",
    "\n",
    "\n",
    "def wait():\n",
    "    for _ in range(5):\n",
    "        print(\"Hello World\")\n",
    "        time.sleep(5)\n",
    "        \n",
    "wait()"
   ]
  },
  {
   "cell_type": "markdown",
   "metadata": {},
   "source": [
    "#3"
   ]
  },
  {
   "cell_type": "code",
   "execution_count": 12,
   "metadata": {},
   "outputs": [
    {
     "name": "stdout",
     "output_type": "stream",
     "text": [
      "Hello World\n",
      "Hello World\n",
      "Hello World\n",
      "Hello World\n",
      "Hello World\n",
      "1042.555211537 s\n"
     ]
    }
   ],
   "source": [
    "import time \n",
    "\n",
    "\n",
    "def wait():\n",
    "    for _ in range(5):\n",
    "        print(\"Hello World\")\n",
    "        time.sleep(5)\n",
    "        \n",
    "wait()\n",
    "\n",
    "t_frac = time.perf_counter()\n",
    "\n",
    "print(t_frac, \"s\")"
   ]
  },
  {
   "cell_type": "markdown",
   "metadata": {},
   "source": [
    "#4"
   ]
  },
  {
   "cell_type": "code",
   "execution_count": 6,
   "metadata": {},
   "outputs": [
    {
     "data": {
      "text/plain": [
       "DatetimeIndex(['1987-10-16', '1987-10-17', '1987-10-18', '1987-10-19',\n",
       "               '1987-10-20', '1987-10-21', '1987-10-22', '1987-10-23',\n",
       "               '1987-10-24'],\n",
       "              dtype='datetime64[ns]', freq='D')"
      ]
     },
     "execution_count": 6,
     "metadata": {},
     "output_type": "execute_result"
    }
   ],
   "source": [
    "import pandas\n",
    "\n",
    "sdate = date(1987,10,16)   # start date\n",
    "edate = date(1987,10,25)   # end date\n",
    "\n",
    "pandas.date_range(sdate,edate-timedelta(days=1),freq='d')"
   ]
  },
  {
   "cell_type": "code",
   "execution_count": null,
   "metadata": {},
   "outputs": [],
   "source": []
  }
 ],
 "metadata": {
  "kernelspec": {
   "display_name": "Python 3",
   "language": "python",
   "name": "python3"
  },
  "language_info": {
   "codemirror_mode": {
    "name": "ipython",
    "version": 3
   },
   "file_extension": ".py",
   "mimetype": "text/x-python",
   "name": "python",
   "nbconvert_exporter": "python",
   "pygments_lexer": "ipython3",
   "version": "3.8.3"
  }
 },
 "nbformat": 4,
 "nbformat_minor": 4
}
