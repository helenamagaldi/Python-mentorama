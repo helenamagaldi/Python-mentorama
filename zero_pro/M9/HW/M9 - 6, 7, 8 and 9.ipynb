{
 "cells": [
  {
   "cell_type": "markdown",
   "metadata": {},
   "source": [
    "#6"
   ]
  },
  {
   "cell_type": "code",
   "execution_count": null,
   "metadata": {},
   "outputs": [],
   "source": [
    "from datetime import datetime\n",
    "\n",
    "date_time_str = '01/01/21 13:53:00'\n",
    "\n",
    "date_time_obj = datetime.strptime(date_time_str, '%d/%m/%y %H:%M:%S')\n",
    "\n",
    "\n",
    "print (date_time_obj)"
   ]
  },
  {
   "cell_type": "markdown",
   "metadata": {},
   "source": [
    "#7\n"
   ]
  },
  {
   "cell_type": "code",
   "execution_count": 6,
   "metadata": {},
   "outputs": [
    {
     "name": "stdout",
     "output_type": "stream",
     "text": [
      "2021-01-17 00:00:00\n"
     ]
    }
   ],
   "source": [
    "import datetime\n",
    "import pandas as pd\n",
    "\n",
    "today = datetime.date(2021, 1, 25)\n",
    "days_to_be_deducted = 8\n",
    "\n",
    "new_date = today - pd.DateOffset(days=days_to_be_deducted)\n",
    "\n",
    "print(new_date)"
   ]
  },
  {
   "cell_type": "markdown",
   "metadata": {},
   "source": [
    "#8"
   ]
  },
  {
   "cell_type": "code",
   "execution_count": 7,
   "metadata": {},
   "outputs": [
    {
     "name": "stdout",
     "output_type": "stream",
     "text": [
      "989\n"
     ]
    }
   ],
   "source": [
    "from datetime import date\n",
    "\n",
    "date_1 = date(1988, 2, 20)\n",
    "date_2 = date(1990, 11, 5)\n",
    "\n",
    "delta = date_2 - date_1\n",
    "\n",
    "print(delta.days)"
   ]
  },
  {
   "cell_type": "markdown",
   "metadata": {},
   "source": [
    "#9"
   ]
  },
  {
   "cell_type": "code",
   "execution_count": 17,
   "metadata": {},
   "outputs": [
    {
     "name": "stdout",
     "output_type": "stream",
     "text": [
      "2021-09-16 12:24:46.620089\n",
      "2021-09-14 12:24:46.626844\n",
      "2021-09-18 12:24:46.627395\n",
      "4\n"
     ]
    }
   ],
   "source": [
    "from datetime import datetime\n",
    "from datetime import timedelta\n",
    "\n",
    "today = datetime.now()\n",
    "the_day_before = datetime.now() - timedelta(days=2)\n",
    "the_day_after_tomorrow = datetime.now() + timedelta(days=2)\n",
    "\n",
    "number_of_days = the_day_after_tomorrow - the_day_before \n",
    "\n",
    "print(number_of_days.days)"
   ]
  },
  {
   "cell_type": "code",
   "execution_count": null,
   "metadata": {},
   "outputs": [],
   "source": []
  }
 ],
 "metadata": {
  "kernelspec": {
   "display_name": "Python 3",
   "language": "python",
   "name": "python3"
  },
  "language_info": {
   "codemirror_mode": {
    "name": "ipython",
    "version": 3
   },
   "file_extension": ".py",
   "mimetype": "text/x-python",
   "name": "python",
   "nbconvert_exporter": "python",
   "pygments_lexer": "ipython3",
   "version": "3.8.3"
  }
 },
 "nbformat": 4,
 "nbformat_minor": 4
}
